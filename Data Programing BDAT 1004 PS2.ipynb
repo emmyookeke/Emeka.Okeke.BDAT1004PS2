{
 "cells": [
  {
   "cell_type": "markdown",
   "id": "7f0e64b4",
   "metadata": {},
   "source": [
    "# BDAT 1004 – Data Programming \n",
    "\n",
    "# Problem Set 2\n",
    "\n",
    "    "
   ]
  },
  {
   "cell_type": "markdown",
   "id": "2b7d49e0",
   "metadata": {},
   "source": [
    "# Question 1\n",
    "\n",
    "Consider the following Python module:\n",
    "a = 0 \n",
    "def b():\n",
    "global a\n",
    "a = c(a)\n",
    "def c(a):\n",
    "return a + 2\n",
    "After importing the module into the interpreter, you execute:\n",
    ">>> b()\n",
    ">>> b()\n",
    ">>> b()\n",
    ">>> a\n",
    "?\n",
    "\n",
    "What value is displayed when the last expression (a) is evaluated? Explain your answer by indicating what happens in every executed statement."
   ]
  },
  {
   "cell_type": "code",
   "execution_count": 3,
   "id": "e32f82bb",
   "metadata": {},
   "outputs": [
    {
     "name": "stdout",
     "output_type": "stream",
     "text": [
      "Calling b() the first time:\n",
      "The value of 'a' inside b() is 2\n",
      "Calling b() the second time:\n",
      "The value of 'a' inside b() is 4\n",
      "Calling b() the third time:\n",
      "The value of 'a' inside b() is 6\n",
      "The final value of 'a' is 6\n"
     ]
    }
   ],
   "source": [
    "# Solution to Q1\n",
    "\n",
    "# Initialize a variable 'a' with the value 0\n",
    "a = 0\n",
    "\n",
    "# Define a function 'b' that modifies the global variable 'a' using another function 'c' and prints its value\n",
    "def b():\n",
    "    global a  # Declare 'a' as a global variable to modify its value\n",
    "    a = c(a)  # Update the value of 'a' using function 'c'\n",
    "    print(\"The value of 'a' inside b() is\", a)  # Print the current value of 'a' inside the function\n",
    "\n",
    "# Define a function 'c' that increments its argument by 2\n",
    "def c(a):\n",
    "    return a + 2\n",
    "\n",
    "# Call function 'b' three times and print the value of 'a' after each call\n",
    "print(\"Calling b() the first time:\")\n",
    "b()\n",
    "print(\"Calling b() the second time:\")\n",
    "b()\n",
    "print(\"Calling b() the third time:\")\n",
    "b()\n",
    "\n",
    "# Print the final value of 'a' after three calls to 'b'\n",
    "print(\"The final value of 'a' is\", a)"
   ]
  },
  {
   "cell_type": "code",
   "execution_count": null,
   "id": "faf8ceaa",
   "metadata": {},
   "outputs": [],
   "source": [
    "Therefore, the final value displayed for the last expression of (a) is 6"
   ]
  },
  {
   "cell_type": "markdown",
   "id": "288b0ea6",
   "metadata": {},
   "source": [
    "# Question 2\n",
    "\n",
    "Function fileLength(), given to you, takes the name of a file as input and returns the length of the file:\n",
    ">>> fileLength('midterm.py') \n",
    "284\n",
    ">>> fileLength('idterm.py') \n",
    "Traceback (most recent call last):\n",
    "File \"<pyshell#34>\", line 1, in <module> fileLength('idterm.py')\n",
    "File \"/Users/me/midterm.py\", line 3, in fileLength infile = open(filename)\n",
    "FileNotFoundError: [Errno 2] No such file or directory: 'idterm.py'\n",
    "As shown above, if the file cannot be found by the interpreter or if it cannot be read as a text file, an exception will be raised. Modify function fileLength() so that a friendly message is printed instead:\n",
    ">>> fileLength('midterm.py') 358\n",
    ">>> fileLength('idterm.py') File idterm.py not found."
   ]
  },
  {
   "cell_type": "code",
   "execution_count": 5,
   "id": "8fd19a6b",
   "metadata": {},
   "outputs": [
    {
     "name": "stdout",
     "output_type": "stream",
     "text": [
      "The length of the file ('Filelength.txt') is 123 characters.\n"
     ]
    }
   ],
   "source": [
    "# Solution to Q2\n",
    "\n",
    "def fileLength(file_name):  # Function definition taking a file name as an argument\n",
    "    try:  # Start of a try-except block to handle potential errors\n",
    "        with open(file_name, \"r\") as file:  # Opens the file in read mode\n",
    "            contents = file.read()  # Reads the contents of the file\n",
    "            print(f\"The length of the file ('{file_name}') is {len(contents)} characters.\")  # Prints the length of the file\n",
    "    except FileNotFoundError:  # Catches an error if the file is not found\n",
    "        print(f\"File '{file_name}' cannot be found.\")\n",
    "    except PermissionError:  # Catches an error if there's a permission issue while trying to read the file\n",
    "        print(f\"Permission denied while trying to read file '{file_name}'.\")\n",
    "    except Exception as e:  # Catches any other unexpected exceptions\n",
    "        print(f\"An error occurred: {e}\")\n",
    "\n",
    "fileLength(\"Filelength.txt\")  # Calls the fileLength function, replace \"Filelength.txt\" with the path of the file you want to check\n"
   ]
  },
  {
   "cell_type": "markdown",
   "id": "5c2c11d3",
   "metadata": {},
   "source": [
    "# Question 3\n",
    "\n",
    "Write a class named Marsupial that can be used as shown below:\n",
    ">>> m = Marsupial()\n",
    ">>> m.put_in_pouch('doll')\n",
    ">>> m.put_in_pouch('firetruck')\n",
    ">>> m.put_in_pouch('kitten')\n",
    ">>> m.pouch_contents() ['doll', 'firetruck', 'kitten']\n",
    "Now write a class named Kangaroo as a subclass of Marsupial that inherits all the attributes of Marsupial and also:\n",
    "a. extends the Marsupial __init__ constructor to take, as input, the\n",
    "coordinates x and y of the Kangaroo object,\n",
    "b. supports method jump that takes number values dx and dy as input and moves the kangaroo by dx units along the x-axis and by dy units along the y- axis, and\n",
    "c. overloads the __str__ operator so it behaves as shown below.\n",
    ">>> k = Kangaroo(0,0)\n",
    ">>> print(k)\n",
    "I am a Kangaroo located at coordinates (0,0)\n",
    ">>> k.put_in_pouch('doll')\n",
    ">>> k.put_in_pouch('firetruck')\n",
    ">>> k.put_in_pouch('kitten')\n",
    ">>> k.pouch_contents() ['doll', 'firetruck', 'kitten']\n",
    ">>> k.jump(1,0)\n",
    ">>> k.jump(1,0)\n",
    ">>> k.jump(1,0)\n",
    ">>> print(k)\n",
    "I am a Kangaroo located at coordinates (3,0)"
   ]
  },
  {
   "cell_type": "code",
   "execution_count": 10,
   "id": "5ff3ded3",
   "metadata": {},
   "outputs": [
    {
     "name": "stdout",
     "output_type": "stream",
     "text": [
      "Enter the initial x-coordinate: 2\n",
      "Enter the initial y-coordinate: 1\n",
      "['doll', 'firetruck', 'kitten']\n",
      "I am a Kangaroo located at coordinates (2,1)\n",
      "['doll', 'firetruck', 'kitten']\n",
      "I am a Kangaroo located at coordinates (5,1)\n"
     ]
    }
   ],
   "source": [
    "# Solution to Q3\n",
    "\n",
    "class Marsupial:\n",
    "    def __init__(self):\n",
    "        self.pouch = []  # Initialize an empty pouch\n",
    "    \n",
    "    def put_in_pouch(self, item):\n",
    "        self.pouch.append(item)  # Add an item to the pouch\n",
    "    \n",
    "    def pouch_contents(self):\n",
    "        return self.pouch  # Return the contents of the pouch\n",
    "\n",
    "\n",
    "class Kangaroo(Marsupial):\n",
    "    def __init__(self, x, y):\n",
    "        super().__init__()  # Call the constructor of the superclass Marsupial\n",
    "        self.x = x  # Initialize x-coordinate\n",
    "        self.y = y  # Initialize y-coordinate\n",
    "    \n",
    "    def jump(self, dx, dy):\n",
    "        self.x += dx  # Move along the x-axis\n",
    "        self.y += dy  # Move along the y-axis\n",
    "    \n",
    "    def __str__(self):\n",
    "        return f\"I am a Kangaroo located at coordinates ({self.x},{self.y})\"\n",
    "\n",
    "# Gather user input for the initial x and y coordinates\n",
    "x = int(input(\"Enter the initial x-coordinate: \"))  # Prompt user for x-coordinate input\n",
    "y = int(input(\"Enter the initial y-coordinate: \"))  # Prompt user for y-coordinate input\n",
    "\n",
    "m = Marsupial()  # Create an instance of the Marsupial class\n",
    "m.put_in_pouch('doll')  # Add 'doll' to the pouch of the Marsupial instance\n",
    "m.put_in_pouch('firetruck')  # Add 'firetruck' to the pouch of the Marsupial instance\n",
    "m.put_in_pouch('kitten')  # Add 'kitten' to the pouch of the Marsupial instance\n",
    "print(m.pouch_contents())  # Output the contents of the pouch: ['doll', 'firetruck', 'kitten']\n",
    "\n",
    "k = Kangaroo(x, y)  # Create a Kangaroo instance with user-provided coordinates\n",
    "print(k)  # Output: I am a Kangaroo located at the provided coordinates\n",
    "k.put_in_pouch('doll')  # Add 'doll' to the pouch of the Kangaroo instance\n",
    "k.put_in_pouch('firetruck')  # Add 'firetruck' to the pouch of the Kangaroo instance\n",
    "k.put_in_pouch('kitten')  # Add 'kitten' to the pouch of the Kangaroo instance\n",
    "print(k.pouch_contents())  # Output the contents of the pouch: ['doll', 'firetruck', 'kitten']\n",
    "k.jump(1, 0)  # Move the Kangaroo 1 unit along the x-axis\n",
    "k.jump(1, 0)  # Move the Kangaroo 1 unit along the x-axis\n",
    "k.jump(1, 0)  # Move the Kangaroo 1 unit along the x-axis\n",
    "print(k)  # Output: Updated location based on movements\n"
   ]
  },
  {
   "cell_type": "markdown",
   "id": "a8c085f0",
   "metadata": {},
   "source": [
    "# Question 4\n",
    "\n",
    "Write function collatz() that takes a positive integer x as input and prints the Collatz sequence starting at x. A Collatz sequence is obtained by repeatedly applying this rule to the previous number x in the sequence:\n",
    "x = { 𝑥/2 𝑖𝑓 𝑥 𝑖𝑠 𝑒𝑣𝑒𝑛3𝑥+1 𝑖𝑓 𝑥 𝑖𝑠 𝑜𝑑𝑑\n",
    "Your function should stop when the sequence gets to number 1. Your implementation must be recursive, without any loops.\n",
    ">>> collatz(1) 1\n",
    ">>> collatz(10) 10\n",
    "5\n",
    "16\n",
    "8\n",
    "4\n",
    "2\n",
    "1"
   ]
  },
  {
   "cell_type": "code",
   "execution_count": 30,
   "id": "f2b38afd",
   "metadata": {},
   "outputs": [
    {
     "name": "stdout",
     "output_type": "stream",
     "text": [
      "Enter a positive integer: 10\n",
      "Collatz (1) 1 \n",
      "Collatz (10) 10 5 16 8 4 2 1 \n"
     ]
    }
   ],
   "source": [
    "# Solution to Q4\n",
    "\n",
    "# Define a function that generates and prints the Collatz sequence for a given positive integer 'x'\n",
    "def collatz(x):\n",
    "    print(x, end=' ')  # Print the current value of x\n",
    "    if x == 1:  # Base case: Stop when x reaches 1\n",
    "        return\n",
    "    elif x % 2 == 0:  # If x is even\n",
    "        collatz(x // 2)  # Recursively call collatz with x divided by 2\n",
    "    else:  # If x is odd\n",
    "        collatz(3 * x + 1)  # Recursively call collatz with 3x + 1\n",
    "\n",
    "# Prompt the user to enter a positive integer\n",
    "number = int(input(\"Enter a positive integer: \")\n",
    "\n",
    "# Check if the entered number is positive\n",
    "if number > 0:\n",
    "    print(\"Collatz (1) \", end='')  # Start with \"Collatz (1): \"\n",
    "    collatz(1)  # Generate and print the Collatz sequence starting from 1\n",
    "    print(f\"\\nCollatz ({number}) \", end='')  # Start with \"Collatz (number): \"\n",
    "    collatz(number)  # Generate and print the Collatz sequence for the input number\n",
    "    print()  # Add a new line after the sequence\n",
    "else:\n",
    "    print(\"Please enter a positive integer.\")  # Prompt the user to enter a positive integer if an invalid input is detected\n"
   ]
  },
  {
   "cell_type": "markdown",
   "id": "4f9103dd",
   "metadata": {},
   "source": [
    "# Question 5\n",
    "\n",
    "Write a recursive method binary() that takes a non-negative integer n and prints the binary representation of integer n.\n",
    ">>> binary(0) 0\n",
    ">>> binary(1) 1\n",
    ">>> binary(3) 11\n",
    ">>> binary(9) 1001"
   ]
  },
  {
   "cell_type": "code",
   "execution_count": 40,
   "id": "e98a1d02",
   "metadata": {},
   "outputs": [
    {
     "name": "stdout",
     "output_type": "stream",
     "text": [
      "Please enter a non-negative number: 9\n",
      "binary (9) 1001\n"
     ]
    }
   ],
   "source": [
    "# Solution to Q5\n",
    "\n",
    "# Define a function that converts a non-negative integer 'n' to its binary representation\n",
    "def binary(n):\n",
    "    # Check if the integer is greater than 1 to continue recursion\n",
    "    if n > 1:\n",
    "        binary(n // 2)  # Recursive call with n divided by 2 to obtain the binary representation\n",
    "    print(n % 2, end='')  # Output the remainder (binary digit) when divided by 2\n",
    "\n",
    "# Get input from the user to obtain a non-negative number\n",
    "number = int(input(\"Please enter a non-negative number: \"))\n",
    "\n",
    "# Check if the entered number is non-negative\n",
    "if number >= 0:\n",
    "    print(f\"binary ({number}) \", end='')  # Display text indicating the operation and the entered number\n",
    "    binary(number)  # Output the binary representation of the entered number\n",
    "    print()  # Add a new line after the output to separate it\n",
    "else:\n",
    "    print(\"Please enter a non-negative number.\")  # Prompt the user to enter a non-negative number if an invalid input is detected\n"
   ]
  },
  {
   "cell_type": "markdown",
   "id": "6ddc6c42",
   "metadata": {},
   "source": [
    "# Question 6\n",
    "\n",
    "Implement a class named HeadingParser that can be used to parse an HTML document, and retrieve and print all the headings in the document. You should implement your class as a subclass of HTMLParser, defined in Standard Library module html.parser. When fed a string containing HTML code, your class should print the headings, one per line and in the order in which they appear in the document. Each heading should be indented as follows: an h1 heading should have indentation 0, and h2 heading should have indentation 1, etc. Test your implementation using w3c.html.\n",
    ">>> infile = open('w3c.html')\n",
    ">>> content = infile.read()\n",
    ">>> infile.close()\n",
    ">>> hp = HeadingParser()\n",
    ">>> hp.feed(content) W3C Mission Principles"
   ]
  },
  {
   "cell_type": "code",
   "execution_count": 52,
   "id": "0abcd233",
   "metadata": {},
   "outputs": [
    {
     "name": "stdout",
     "output_type": "stream",
     "text": [
      "Enter the HTML file name (e.g., w3c.html) w3c.html\n",
      "W3C Mission\n",
      " Principles\n"
     ]
    }
   ],
   "source": [
    "from html.parser import HTMLParser\n",
    "\n",
    "class HeadingParser(HTMLParser):\n",
    "    def __init__(self):\n",
    "        # Initialize the HeadingParser class\n",
    "        super().__init__()\n",
    "        self.headings = []  # List to store headings\n",
    "        self.current_heading = None  # Track the current heading being processed\n",
    "\n",
    "    def handle_starttag(self, tag, attrs):\n",
    "        # Method called when a starting tag is encountered\n",
    "        if tag.startswith('h') and tag[1:].isdigit():  # Check if the tag is a heading (h1, h2, etc.)\n",
    "            self.current_heading = int(tag[1:]) - 1  # Adjust for 0-based indexing of headings\n",
    "            self.headings.append(\"\")  # Add a new placeholder for the heading\n",
    "\n",
    "    def handle_data(self, data):\n",
    "        # Method called to handle data within tags\n",
    "        if self.current_heading is not None:  # Check if currently processing a heading\n",
    "            self.headings[self.current_heading] += data  # Append text data to the current heading\n",
    "\n",
    "    def print_headings(self):\n",
    "        # Method to print extracted headings with proper indentation\n",
    "        for index, heading in enumerate(self.headings):\n",
    "            if heading.strip():  # Check if the heading contains non-whitespace characters\n",
    "                print(\" \" * index + heading.strip())  # Print the heading with correct indentation\n",
    "\n",
    "# Allow the user to input the filename\n",
    "file_name = input(\"Enter the HTML file name (e.g., w3c.html) \")\n",
    "\n",
    "try:\n",
    "    # Open and read the specified HTML file\n",
    "    with open(file_name) as infile:\n",
    "        content = infile.read()  # Read the content of the file\n",
    "\n",
    "    # Parse and print headings from the HTML content\n",
    "    hp = HeadingParser()  # Instantiate HeadingParser\n",
    "    hp.feed(content)  # Feed HTML content to the HeadingParser for parsing\n",
    "    hp.print_headings()  # Print the extracted headings with proper indentation\n",
    "\n",
    "except FileNotFoundError:\n",
    "    print(\"File not found. Please enter a valid filename.\")\n"
   ]
  },
  {
   "cell_type": "markdown",
   "id": "b867c857",
   "metadata": {},
   "source": [
    "# Question 7\n",
    "\n",
    "Implement recursive function webdir() that takes as input: a URL (as a string) and non-negative integers depth and indent. Your function should visit every web page reachable from the starting URL web page in depth clicks or less, and print each web page's URL. As shown below, indentation, specified by indent, should be used to indicate the depth of a URL.\n",
    ">>>\n",
    "webdir('http://reed.cs.depaul.edu/lperkovic/csc242/test1.html', 2, 0)\n",
    "http://reed.cs.depaul.edu/lperkovic/csc242/test1.html \n",
    "http://reed.cs.depaul.edu/lperkovic/csc242/test2.html\n",
    "http://reed.cs.depaul.edu/lperkovic/csc242/test4.html \n",
    "http://reed.cs.depaul.edu/lperkovic/csc242/test3.html\n",
    "http://reed.cs.depaul.edu/lperkovic/csc242/test4.html"
   ]
  },
  {
   "cell_type": "code",
   "execution_count": 90,
   "id": "7b0355cd",
   "metadata": {},
   "outputs": [
    {
     "name": "stdout",
     "output_type": "stream",
     "text": [
      "http://reed.cs.depaul.edu/lperkovic/test1.html\n",
      "http://reed.cs.depaul.edu/lperkovic/test2.html\n",
      "http://reed.cs.depaul.edu/lperkovic/test4.html\n",
      "http://reed.cs.depaul.edu/lperkovic/test3.html\n",
      "http://reed.cs.depaul.edu/lperkovic/test4.html\n"
     ]
    }
   ],
   "source": [
    "# Solution to Q7\n",
    "\n",
    "from urllib.parse import urljoin  # Importing the necessary libraries\n",
    "from html.parser import HTMLParser\n",
    "from urllib.request import urlopen\n",
    "\n",
    "class Collector(HTMLParser):  # Create a class named Collector, inheriting from HTMLParser\n",
    "    def __init__(self, url):  # Initialize the Collector class\n",
    "        super().__init__()  # Call the HTMLParser constructor\n",
    "        self.url = url  # Set the URL for the collector\n",
    "        self.links = []  # Initialize an empty list to store collected links\n",
    "\n",
    "    def handle_starttag(self, tag, attrs):  # Method to handle starting tags\n",
    "        if tag == 'a':  # Check if the tag is an anchor tag\n",
    "            for attr in attrs:  # Iterate through the attributes\n",
    "                if attr[0] == 'href':  # Check for the href attribute\n",
    "                    absolute = urljoin(self.url, attr[1])  # Join the URL with the href attribute\n",
    "                    if absolute[:4] == 'http':  # Collect only HTTP URLs\n",
    "                        self.links.append(absolute)  # Append the HTTP URL to the list\n",
    "\n",
    "def getLinks(url):  # Function to retrieve links\n",
    "    try:\n",
    "        resource = urlopen(url)  # Open the URL\n",
    "        content = resource.read().decode()  # Read and decode the content\n",
    "        collector = Collector(url)  # Create a Collector instance for the URL\n",
    "        collector.feed(content)  # Feed the content to the Collector\n",
    "        return collector.links  # Return the collected links\n",
    "    except Exception as e:\n",
    "        print(f\"An error occurred: {e}\")  # Handle exceptions and display an error message\n",
    "        return []\n",
    "\n",
    "def displayUrl(url, presentDepth, indentation):  # Display the URL with appropriate indentation\n",
    "    padding = len(url) + (presentDepth * indentation)  # Calculate the padding based on the depth and indentation\n",
    "    string = url.center(padding, \" \")  # Center the URL string within the padding\n",
    "    print(string)  # Print the URL string\n",
    "\n",
    "def crawl(url, presentDepth, deep, indentation):  # Recursive function to crawl URLs to a certain depth\n",
    "    if presentDepth > deep:  # If the current depth exceeds the specified depth, stop\n",
    "        return\n",
    "\n",
    "    displayUrl(url, presentDepth, indentation)  # Display the URL with the proper indentation\n",
    "\n",
    "    links = getLinks(url)  # Retrieve links from the URL\n",
    "\n",
    "    for link in links:  # Loop through the collected links\n",
    "        try:\n",
    "            crawl(link, presentDepth + 1, deep, indentation)  # Recursively crawl the next URL\n",
    "        except Exception as e:\n",
    "            pass  # Handle exceptions during crawling\n",
    "\n",
    "def webdir(url, depth, indent):  # The main function to initiate crawling\n",
    "    indentation = indent  # Assign the specified indentation\n",
    "    deep = depth  # Assign the specified depth\n",
    "    crawl(url, 0, deep, indentation)  # Initiate the crawling from the root URL\n",
    "\n",
    "# Example usage\n",
    "url = 'http://reed.cs.depaul.edu/lperkovic/test1.html'  # The starting URL\n",
    "webdir(url, 2, 0)  # Start crawling with a depth of 2 and no indentation\n"
   ]
  },
  {
   "cell_type": "markdown",
   "id": "d9f0f67d",
   "metadata": {},
   "source": [
    "# Question 8\n",
    "\n",
    "Write SQL queries on the below database table that return:\n",
    "a) All the temperature data.\n",
    "b) All the cities, but without repetition.\n",
    "c) All the records for India.\n",
    "d) All the Fall records.\n",
    "e) The city, country, and season for which the average rainfall is between 200 and 400 millimeters.\n",
    "f) The city and country for which the average Fall temperature is above 20 degrees, in increasing temperature order.\n",
    "g) The total annual rainfall for Cairo.\n",
    "h) The total rainfall for each season.\n",
    "\n",
    "City        Country        Season   Temperature(C) Rainfall (mm)\n",
    "Mumbai      India          Winter       24.8          5.9\n",
    "Mumbai      India          Spring       28.4          16.2\n",
    "Mumbai      India          Summer       27.9          1549.4\n",
    "Mumbai      India          Fall         27.6          346.0\n",
    "London      United Kingdom Winter       4.2           207.7\n",
    "London      United Kingdom Spring       8.3           169.6\n",
    "London      United Kingdom Summer       15.7          157.0\n",
    "London      United Kingdom Fall         10.4          218.5\n",
    "Cairo       Egypt          Winter       13.6          16.5\n",
    "Cairo       Egypt          Spring       20.7          6.5\n",
    "Cairo       Egypt          Summer       27.7          0.1\n",
    "Cairo       Egypt          Fall         22.2          4.5"
   ]
  },
  {
   "cell_type": "markdown",
   "id": "c2821c2f",
   "metadata": {},
   "source": [
    " Solution to Q8\n",
    " \n",
    "using the name of the table as as table_name\n",
    "a) Retrieve the 'Temperature' column from the table \n",
    "SELECT Temperature FROM table_name;\n",
    "\n",
    "b) Retrieve distinct 'City' values from the table\n",
    "SELECT DISTINCT City FROM table_name;\n",
    "\n",
    "c) Retrieve all columns for records where the 'Country' column is 'India'\n",
    "SELECT * FROM table_name WHERE Country = 'India';\n",
    "\n",
    "d) Retrieve all columns for records where the 'Season' column is 'Fall'\n",
    "SELECT * FROM table_name WHERE Season = 'Fall';\n",
    "\n",
    "e) Retrieve 'City', 'Country', and 'Season' columns, group by them, and filter based on average rainfall between 200 and 400\n",
    "SELECT City, Country, Season \n",
    "FROM table_name \n",
    "GROUP BY City, Country, Season \n",
    "HAVING AVG(Rainfall) BETWEEN 200 AND 400;\n",
    "\n",
    "f) Retrieve 'City' and 'Country' columns, filter for 'Fall' season, group by 'City' and 'Country', and sort based on average temperature\n",
    "SELECT City, Country \n",
    "FROM table_name \n",
    "WHERE Season = 'Fall' \n",
    "GROUP BY City, Country \n",
    "HAVING AVG(Temperature) > 20 \n",
    "ORDER BY AVG(Temperature);\n",
    "\n",
    "g) Calculate total annual rainfall for the city 'Cairo'\n",
    "SELECT SUM(Rainfall) AS \"Total Annual Rainfall\" \n",
    "FROM table_name \n",
    "WHERE City = 'Cairo';\n",
    "\n",
    "h) Calculate the total rainfall for each 'Season' in the table\n",
    "SELECT Season, SUM(Rainfall) AS \"Total Rainfall\" \n",
    "FROM table_name \n",
    "GROUP BY Season;\n",
    "\n",
    "\n"
   ]
  },
  {
   "cell_type": "markdown",
   "id": "a0795be1",
   "metadata": {},
   "source": [
    "# Question 9\n",
    "\n",
    "Suppose list words is defined as follows:\n",
    ">>> words = ['The', 'quick', 'brown', 'fox', 'jumps', 'over', 'the', 'lazy', 'dog']\n",
    "Write list comprehension expressions that use list words and generate the following lists:\n",
    "a) ['THE', 'QUICK', 'BROWN', 'FOX', 'JUMPS', 'OVER', 'THE', 'LAZY', 'DOG']\n",
    "b) ['the', 'quick', 'brown', 'fox', 'jumps', 'over', 'the', 'lazy', 'dog']\n",
    "c) [3, 5, 5, 3, 5, 4, 3, 4, 3] (the list of lengths of words in list\n",
    "words).\n",
    "d) [['THE', 'the', 3], ['QUICK', 'quick', 5], ['BROWN',\n",
    "'brown', 5], ['FOX', 'fox', 3], ['JUMPS', 'jumps', 5],\n",
    "['OVER', 'over', 4], ['THE', 'the', 3], ['LAZY', 'lazy',\n",
    "4], ['DOG', 'dog', 3]] (the list containing a list for every word of list words, where each list contains the word in uppercase and lowercase and the length of the word.)\n",
    "e) ['The', 'quick', 'brown', 'fox', 'jumps', 'over', 'the', 'lazy', 'dog'] (the list of words in list words containing 4 or more characters.)"
   ]
  },
  {
   "cell_type": "code",
   "execution_count": 1,
   "id": "d308d47a",
   "metadata": {},
   "outputs": [
    {
     "name": "stdout",
     "output_type": "stream",
     "text": [
      "a) Uppercase words: ['THE', 'QUICK', 'BROWN', 'FOX', 'JUMPS', 'OVER', 'THE', 'LAZY', 'DOG']\n",
      "b) Lowercase words: ['the', 'quick', 'brown', 'fox', 'jumps', 'over', 'the', 'lazy', 'dog']\n",
      "c) Word lengths: [3, 5, 5, 3, 5, 4, 3, 4, 3]\n",
      "d) Word data (upper, lower, length): [['THE', 'the', 3], ['QUICK', 'quick', 5], ['BROWN', 'brown', 5], ['FOX', 'fox', 3], ['JUMPS', 'jumps', 5], ['OVER', 'over', 4], ['THE', 'the', 3], ['LAZY', 'lazy', 4], ['DOG', 'dog', 3]]\n",
      "e) Words with 4 or more characters: ['quick', 'brown', 'jumps', 'over', 'lazy']\n"
     ]
    }
   ],
   "source": [
    "# Solution to Q9\n",
    "\n",
    "# Given list of words\n",
    "words = ['The', 'quick', 'brown', 'fox', 'jumps', 'over', 'the', 'lazy', 'dog']\n",
    "\n",
    "# a) List of words in uppercase\n",
    "upper_case_words = [word.upper() for word in words]\n",
    "\n",
    "# b) List of words in lowercase\n",
    "lower_case_words = [word.lower() for word in words]\n",
    "\n",
    "# c) List of lengths of words\n",
    "word_lengths = [len(word) for word in words]\n",
    "\n",
    "# d) List of lists containing the word in uppercase, lowercase, and its length\n",
    "word_data = [[word.upper(), word.lower(), len(word)] for word in words]\n",
    "\n",
    "# e) List of words with 4 or more characters\n",
    "four_or_more_chars = [word for word in words if len(word) >= 4]\n",
    "\n",
    "# Print generated lists\n",
    "print(\"a) Uppercase words:\", upper_case_words)\n",
    "print(\"b) Lowercase words:\", lower_case_words)\n",
    "print(\"c) Word lengths:\", word_lengths)\n",
    "print(\"d) Word data (upper, lower, length):\", word_data)\n",
    "print(\"e) Words with 4 or more characters:\", four_or_more_chars)\n"
   ]
  },
  {
   "cell_type": "code",
   "execution_count": null,
   "id": "b0db646b",
   "metadata": {},
   "outputs": [],
   "source": []
  }
 ],
 "metadata": {
  "kernelspec": {
   "display_name": "Python 3 (ipykernel)",
   "language": "python",
   "name": "python3"
  },
  "language_info": {
   "codemirror_mode": {
    "name": "ipython",
    "version": 3
   },
   "file_extension": ".py",
   "mimetype": "text/x-python",
   "name": "python",
   "nbconvert_exporter": "python",
   "pygments_lexer": "ipython3",
   "version": "3.11.4"
  }
 },
 "nbformat": 4,
 "nbformat_minor": 5
}
